{
 "cells": [
  {
   "cell_type": "code",
   "execution_count": 1,
   "metadata": {},
   "outputs": [
    {
     "name": "stdout",
     "output_type": "stream",
     "text": [
      "/Users/zhiweidong/Desktop/ING\n"
     ]
    }
   ],
   "source": [
    "import os\n",
    "print(os.getcwd())"
   ]
  },
  {
   "cell_type": "code",
   "execution_count": 2,
   "metadata": {},
   "outputs": [
    {
     "name": "stdout",
     "output_type": "stream",
     "text": [
      "Manual_Log.csv          Untitled.ipynb          \u001b[31mreport structure .pages\u001b[m\u001b[m\r\n"
     ]
    }
   ],
   "source": [
    "!ls"
   ]
  },
  {
   "cell_type": "code",
   "execution_count": 13,
   "metadata": {},
   "outputs": [],
   "source": [
    "import pandas as pd\n",
    "import numpy as np"
   ]
  },
  {
   "cell_type": "code",
   "execution_count": 4,
   "metadata": {},
   "outputs": [],
   "source": [
    "log_df = pd.read_csv(\"Manual_Log.csv\", sep = \";\")"
   ]
  },
  {
   "cell_type": "code",
   "execution_count": 5,
   "metadata": {},
   "outputs": [
    {
     "data": {
      "text/html": [
       "<div>\n",
       "<style scoped>\n",
       "    .dataframe tbody tr th:only-of-type {\n",
       "        vertical-align: middle;\n",
       "    }\n",
       "\n",
       "    .dataframe tbody tr th {\n",
       "        vertical-align: top;\n",
       "    }\n",
       "\n",
       "    .dataframe thead th {\n",
       "        text-align: right;\n",
       "    }\n",
       "</style>\n",
       "<table border=\"1\" class=\"dataframe\">\n",
       "  <thead>\n",
       "    <tr style=\"text-align: right;\">\n",
       "      <th></th>\n",
       "      <th>Time</th>\n",
       "      <th>Server</th>\n",
       "      <th>Message_type</th>\n",
       "      <th>CPU_Usage</th>\n",
       "      <th>Memory_Usage</th>\n",
       "      <th>Transaction_ID</th>\n",
       "      <th>To_Server</th>\n",
       "      <th>Message</th>\n",
       "      <th>Unnamed: 8</th>\n",
       "    </tr>\n",
       "  </thead>\n",
       "  <tbody>\n",
       "    <tr>\n",
       "      <th>0</th>\n",
       "      <td>9,820137612</td>\n",
       "      <td>Client</td>\n",
       "      <td>INFO</td>\n",
       "      <td>NaN</td>\n",
       "      <td>NaN</td>\n",
       "      <td>1</td>\n",
       "      <td>A</td>\n",
       "      <td>Request from customer Transaction ID: 1</td>\n",
       "      <td>NaN</td>\n",
       "    </tr>\n",
       "    <tr>\n",
       "      <th>1</th>\n",
       "      <td>13,60578744</td>\n",
       "      <td>Client</td>\n",
       "      <td>INFO</td>\n",
       "      <td>NaN</td>\n",
       "      <td>NaN</td>\n",
       "      <td>2</td>\n",
       "      <td>A</td>\n",
       "      <td>Request from customer Transaction ID: 2</td>\n",
       "      <td>NaN</td>\n",
       "    </tr>\n",
       "    <tr>\n",
       "      <th>2</th>\n",
       "      <td>13,6138917</td>\n",
       "      <td>B</td>\n",
       "      <td>INFO</td>\n",
       "      <td>57,82%</td>\n",
       "      <td>99,57%</td>\n",
       "      <td>2</td>\n",
       "      <td>B</td>\n",
       "      <td>Send Authentication request to server B Transa...</td>\n",
       "      <td>NaN</td>\n",
       "    </tr>\n",
       "    <tr>\n",
       "      <th>3</th>\n",
       "      <td>13,8733843</td>\n",
       "      <td>B</td>\n",
       "      <td>INFO</td>\n",
       "      <td>37,79%</td>\n",
       "      <td>7,69%</td>\n",
       "      <td>1</td>\n",
       "      <td>B</td>\n",
       "      <td>Send Authentication request to server B Transa...</td>\n",
       "      <td>NaN</td>\n",
       "    </tr>\n",
       "    <tr>\n",
       "      <th>4</th>\n",
       "      <td>14,2035077</td>\n",
       "      <td>B</td>\n",
       "      <td>INFO</td>\n",
       "      <td>50,41%</td>\n",
       "      <td>49,60%</td>\n",
       "      <td>1</td>\n",
       "      <td>A</td>\n",
       "      <td>Return Authentication request to server A Tran...</td>\n",
       "      <td>NaN</td>\n",
       "    </tr>\n",
       "  </tbody>\n",
       "</table>\n",
       "</div>"
      ],
      "text/plain": [
       "          Time  Server Message_type CPU_Usage Memory_Usage  Transaction_ID  \\\n",
       "0  9,820137612  Client         INFO       NaN          NaN               1   \n",
       "1  13,60578744  Client         INFO       NaN          NaN               2   \n",
       "2   13,6138917       B         INFO    57,82%       99,57%               2   \n",
       "3   13,8733843       B         INFO    37,79%        7,69%               1   \n",
       "4   14,2035077       B         INFO    50,41%       49,60%               1   \n",
       "\n",
       "  To_Server                                            Message  Unnamed: 8  \n",
       "0         A            Request from customer Transaction ID: 1         NaN  \n",
       "1         A            Request from customer Transaction ID: 2         NaN  \n",
       "2         B  Send Authentication request to server B Transa...         NaN  \n",
       "3         B  Send Authentication request to server B Transa...         NaN  \n",
       "4         A  Return Authentication request to server A Tran...         NaN  "
      ]
     },
     "execution_count": 5,
     "metadata": {},
     "output_type": "execute_result"
    }
   ],
   "source": [
    "log_df.head()"
   ]
  },
  {
   "cell_type": "code",
   "execution_count": 9,
   "metadata": {},
   "outputs": [],
   "source": [
    "flow = log_df[['Server','To_Server']]"
   ]
  },
  {
   "cell_type": "code",
   "execution_count": 11,
   "metadata": {},
   "outputs": [
    {
     "data": {
      "text/html": [
       "<div>\n",
       "<style scoped>\n",
       "    .dataframe tbody tr th:only-of-type {\n",
       "        vertical-align: middle;\n",
       "    }\n",
       "\n",
       "    .dataframe tbody tr th {\n",
       "        vertical-align: top;\n",
       "    }\n",
       "\n",
       "    .dataframe thead th {\n",
       "        text-align: right;\n",
       "    }\n",
       "</style>\n",
       "<table border=\"1\" class=\"dataframe\">\n",
       "  <thead>\n",
       "    <tr style=\"text-align: right;\">\n",
       "      <th></th>\n",
       "      <th>Server</th>\n",
       "      <th>To_Server</th>\n",
       "    </tr>\n",
       "  </thead>\n",
       "  <tbody>\n",
       "    <tr>\n",
       "      <th>0</th>\n",
       "      <td>Client</td>\n",
       "      <td>A</td>\n",
       "    </tr>\n",
       "    <tr>\n",
       "      <th>1</th>\n",
       "      <td>Client</td>\n",
       "      <td>A</td>\n",
       "    </tr>\n",
       "    <tr>\n",
       "      <th>2</th>\n",
       "      <td>B</td>\n",
       "      <td>B</td>\n",
       "    </tr>\n",
       "    <tr>\n",
       "      <th>3</th>\n",
       "      <td>B</td>\n",
       "      <td>B</td>\n",
       "    </tr>\n",
       "    <tr>\n",
       "      <th>4</th>\n",
       "      <td>B</td>\n",
       "      <td>A</td>\n",
       "    </tr>\n",
       "  </tbody>\n",
       "</table>\n",
       "</div>"
      ],
      "text/plain": [
       "   Server To_Server\n",
       "0  Client         A\n",
       "1  Client         A\n",
       "2       B         B\n",
       "3       B         B\n",
       "4       B         A"
      ]
     },
     "execution_count": 11,
     "metadata": {},
     "output_type": "execute_result"
    }
   ],
   "source": [
    "flow.head()"
   ]
  },
  {
   "cell_type": "code",
   "execution_count": 26,
   "metadata": {},
   "outputs": [
    {
     "data": {
      "text/plain": [
       "array(['Client', 'B', 'A', 'C'], dtype=object)"
      ]
     },
     "execution_count": 26,
     "metadata": {},
     "output_type": "execute_result"
    }
   ],
   "source": [
    "Server_list=flow[\"Server\"].unique()\n",
    "Server_list"
   ]
  },
  {
   "cell_type": "code",
   "execution_count": 27,
   "metadata": {},
   "outputs": [
    {
     "data": {
      "text/plain": [
       "array(['A', 'B', 'C', 'Client'], dtype=object)"
      ]
     },
     "execution_count": 27,
     "metadata": {},
     "output_type": "execute_result"
    }
   ],
   "source": [
    "To_Server_list = flow[\"To_Server\"].unique()\n",
    "To_Server_list"
   ]
  },
  {
   "cell_type": "code",
   "execution_count": 23,
   "metadata": {},
   "outputs": [
    {
     "data": {
      "text/plain": [
       "10000"
      ]
     },
     "execution_count": 23,
     "metadata": {},
     "output_type": "execute_result"
    }
   ],
   "source": [
    "flow[(flow[\"Server\"] == \"A\") & (flow[\"To_Server\"] == \"C\") ].shape[0]"
   ]
  },
  {
   "cell_type": "code",
   "execution_count": 48,
   "metadata": {},
   "outputs": [
    {
     "name": "stdout",
     "output_type": "stream",
     "text": [
      "from Client to A, 10000\n",
      "from Client to B, 0\n",
      "from Client to C, 0\n",
      "from Client to Client, 0\n",
      "from B to A, 10000\n",
      "from B to B, 10000\n",
      "from B to C, 0\n",
      "from B to Client, 0\n",
      "from A to A, 0\n",
      "from A to B, 0\n",
      "from A to C, 10000\n",
      "from A to Client, 10000\n",
      "from C to A, 10000\n",
      "from C to B, 0\n",
      "from C to C, 0\n",
      "from C to Client, 0\n"
     ]
    }
   ],
   "source": [
    "for i in Server_list:\n",
    "    for j in To_Server_list:\n",
    "        print(\"from \"+i+\" to \"+ j + \",\",\n",
    "              len(flow[(flow[\"Server\"] == i) & (flow[\"To_Server\"] == j) ]))"
   ]
  },
  {
   "cell_type": "code",
   "execution_count": 72,
   "metadata": {},
   "outputs": [
    {
     "data": {
      "text/plain": [
       "array([[10000,     0,     0,     0],\n",
       "       [10000, 10000,     0,     0],\n",
       "       [    0,     0, 10000, 10000],\n",
       "       [10000,     0,     0,     0]])"
      ]
     },
     "execution_count": 72,
     "metadata": {},
     "output_type": "execute_result"
    }
   ],
   "source": [
    "value=[]\n",
    "\n",
    "for i in Server_list:\n",
    "    for j in To_Server_list:\n",
    "        value.append(len(flow[(flow[\"Server\"] == i) & (flow[\"To_Server\"] == j) ]))\n",
    "\n",
    "        \n",
    "value_array=np.asarray(value).reshape(4,4)        \n",
    "value_array     \n",
    "        "
   ]
  },
  {
   "cell_type": "code",
   "execution_count": 92,
   "metadata": {},
   "outputs": [
    {
     "data": {
      "text/html": [
       "<div>\n",
       "<style scoped>\n",
       "    .dataframe tbody tr th:only-of-type {\n",
       "        vertical-align: middle;\n",
       "    }\n",
       "\n",
       "    .dataframe tbody tr th {\n",
       "        vertical-align: top;\n",
       "    }\n",
       "\n",
       "    .dataframe thead th {\n",
       "        text-align: right;\n",
       "    }\n",
       "</style>\n",
       "<table border=\"1\" class=\"dataframe\">\n",
       "  <thead>\n",
       "    <tr style=\"text-align: right;\">\n",
       "      <th></th>\n",
       "      <th>to A</th>\n",
       "      <th>to B</th>\n",
       "      <th>to C</th>\n",
       "      <th>to Client</th>\n",
       "    </tr>\n",
       "  </thead>\n",
       "  <tbody>\n",
       "    <tr>\n",
       "      <th>Client</th>\n",
       "      <td>10000</td>\n",
       "      <td>0</td>\n",
       "      <td>0</td>\n",
       "      <td>0</td>\n",
       "    </tr>\n",
       "    <tr>\n",
       "      <th>B</th>\n",
       "      <td>10000</td>\n",
       "      <td>10000</td>\n",
       "      <td>0</td>\n",
       "      <td>0</td>\n",
       "    </tr>\n",
       "    <tr>\n",
       "      <th>A</th>\n",
       "      <td>0</td>\n",
       "      <td>0</td>\n",
       "      <td>10000</td>\n",
       "      <td>10000</td>\n",
       "    </tr>\n",
       "    <tr>\n",
       "      <th>C</th>\n",
       "      <td>10000</td>\n",
       "      <td>0</td>\n",
       "      <td>0</td>\n",
       "      <td>0</td>\n",
       "    </tr>\n",
       "  </tbody>\n",
       "</table>\n",
       "</div>"
      ],
      "text/plain": [
       "         to A   to B   to C  to Client\n",
       "Client  10000      0      0          0\n",
       "B       10000  10000      0          0\n",
       "A           0      0  10000      10000\n",
       "C       10000      0      0          0"
      ]
     },
     "execution_count": 92,
     "metadata": {},
     "output_type": "execute_result"
    }
   ],
   "source": [
    "#pd_matrix let us know how the messages flow from one server to another \n",
    "pd_matrix=pd.DataFrame(value_array)\n",
    "trial_matrix = pd_matrix.set_axis(['Client', 'B', 'A', 'C'], axis=0, inplace=False)\n",
    "final_matrix = trial_matrix.set_axis(['to A', 'to B', 'to C', 'to Client'], axis=1, inplace=False)\n",
    "final_matrix "
   ]
  },
  {
   "cell_type": "code",
   "execution_count": null,
   "metadata": {},
   "outputs": [],
   "source": []
  },
  {
   "cell_type": "code",
   "execution_count": null,
   "metadata": {},
   "outputs": [],
   "source": []
  }
 ],
 "metadata": {
  "kernelspec": {
   "display_name": "Python 3",
   "language": "python",
   "name": "python3"
  },
  "language_info": {
   "codemirror_mode": {
    "name": "ipython",
    "version": 3
   },
   "file_extension": ".py",
   "mimetype": "text/x-python",
   "name": "python",
   "nbconvert_exporter": "python",
   "pygments_lexer": "ipython3",
   "version": "3.7.3"
  }
 },
 "nbformat": 4,
 "nbformat_minor": 2
}
